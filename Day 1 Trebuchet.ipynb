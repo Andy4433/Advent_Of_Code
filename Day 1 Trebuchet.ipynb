{
 "cells": [
  {
   "cell_type": "code",
   "execution_count": 46,
   "id": "33415e1c",
   "metadata": {},
   "outputs": [
    {
     "data": {
      "text/plain": [
       "55816"
      ]
     },
     "metadata": {},
     "output_type": "display_data"
    }
   ],
   "source": [
    "# ex: 1-Day 1 Trebuchet?!-parte 1\n",
    "import pandas as pd\n",
    "\n",
    "\n",
    "df = pd.read_csv(\"input.csv\", header=None, names=[\"line\"])\n",
    "\n",
    "\n",
    "df[\"total\"] = 0\n",
    "\n",
    "\n",
    "for idx, row in df.iterrows():\n",
    "    digits = [x for x in row[\"line\"] if x.isdigit()]\n",
    "    df.at[idx, \"total\"] = int(digits[0] + digits[-1])\n",
    "\n",
    "display(df[\"total\"].sum())\n"
   ]
  },
  {
   "cell_type": "code",
   "execution_count": 63,
   "id": "23da0903",
   "metadata": {},
   "outputs": [
    {
     "data": {
      "text/plain": [
       "'Resultado:'"
      ]
     },
     "metadata": {},
     "output_type": "display_data"
    },
    {
     "data": {
      "text/plain": [
       "54980"
      ]
     },
     "metadata": {},
     "output_type": "display_data"
    }
   ],
   "source": [
    "# ex: 1-Day 1 Trebuchet?!-parte 2\n",
    "import pandas as pd\n",
    "\n",
    "STRINGS = [\"one\", \"two\", \"three\", \"four\", \"five\", \"six\", \"seven\", \"eight\", \"nine\"]\n",
    "\n",
    "def numeros_para_palavra(word):\n",
    "    for i, w in enumerate(STRINGS):\n",
    "        if word.startswith(w):\n",
    "            return str(i + 1)\n",
    "    return \"\"\n",
    "\n",
    "def calcular(line):\n",
    "    digits = [c if c.isdigit() else numeros_para_palavra(line[i:]) for i, c in enumerate(line)]\n",
    "    digits = [d for d in digits if d.isdigit()]\n",
    "    return int(digits[0] + digits[-1])\n",
    "\n",
    "\n",
    "total = df[\"lines\"].apply(calcular).sum()\n",
    "\n",
    "# Exibição do resultado\n",
    "display('Resultado:', total)\n"
   ]
  }
 ],
 "metadata": {
  "kernelspec": {
   "display_name": "Python 3 (ipykernel)",
   "language": "python",
   "name": "python3"
  },
  "language_info": {
   "codemirror_mode": {
    "name": "ipython",
    "version": 3
   },
   "file_extension": ".py",
   "mimetype": "text/x-python",
   "name": "python",
   "nbconvert_exporter": "python",
   "pygments_lexer": "ipython3",
   "version": "3.11.3"
  }
 },
 "nbformat": 4,
 "nbformat_minor": 5
}
